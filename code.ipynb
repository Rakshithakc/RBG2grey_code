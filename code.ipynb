{
 "cells": [
  {
   "cell_type": "code",
   "execution_count": 1,
   "id": "dc9da62b",
   "metadata": {},
   "outputs": [
    {
     "data": {
      "text/plain": [
       "True"
      ]
     },
     "execution_count": 1,
     "metadata": {},
     "output_type": "execute_result"
    }
   ],
   "source": [
    "import cv2\n",
    "#pip install opencv-python\n",
    "\n",
    "image1 = cv2.imread(\"friends.jpg\")\n",
    "#Replace \"captain.jpg\" with your image\n",
    "\n",
    "grey_img1 = cv2.cvtColor(image1,cv2.COLOR_BGR2GRAY)\n",
    "invert1 = cv2.bitwise_not(grey_img1)\n",
    "blur1 = cv2.GaussianBlur(invert1,(21,21),0)\n",
    "invertedblur1 = cv2.bitwise_not(blur1)\n",
    "output1 = cv2.divide(grey_img1, invertedblur1, scale=256.0)\n",
    "cv2.imwrite(\"output1.png\",output1)\n",
    "\n",
    "\n",
    "image2 = cv2.imread(\"Rakshu.JPG\")\n",
    "#Replace \"captain.jpg\" with your image\n",
    "\n",
    "grey_img2 = cv2.cvtColor(image2,cv2.COLOR_BGR2GRAY)\n",
    "invert2 = cv2.bitwise_not(grey_img2)\n",
    "blur2 = cv2.GaussianBlur(invert2,(21,21),0)\n",
    "invertedblur2 = cv2.bitwise_not(blur2)\n",
    "output2 = cv2.divide(grey_img2, invertedblur2, scale=256.0)\n",
    "cv2.imwrite(\"output2.png\",output2)"
   ]
  },
  {
   "cell_type": "code",
   "execution_count": null,
   "id": "03fb26cb",
   "metadata": {},
   "outputs": [],
   "source": []
  }
 ],
 "metadata": {
  "kernelspec": {
   "display_name": "Python 3",
   "language": "python",
   "name": "python3"
  },
  "language_info": {
   "codemirror_mode": {
    "name": "ipython",
    "version": 3
   },
   "file_extension": ".py",
   "mimetype": "text/x-python",
   "name": "python",
   "nbconvert_exporter": "python",
   "pygments_lexer": "ipython3",
   "version": "3.8.8"
  }
 },
 "nbformat": 4,
 "nbformat_minor": 5
}
